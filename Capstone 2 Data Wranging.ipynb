{
 "cells": [
  {
   "cell_type": "markdown",
   "id": "f973a812",
   "metadata": {},
   "source": [
    "# Sunset Pier Hotels and Resorts - Data Wrangling"
   ]
  },
  {
   "cell_type": "markdown",
   "id": "ed641425",
   "metadata": {},
   "source": [
    "## 1. Introduction\n",
    "This notebook contains the data wrangling step to solve the following problem:\n",
    "```\n",
    "How can Sunset Pier Hotels and Resorts implement data backed risk mitigation strategies for the next hotel season that\n",
    "(a) reduce their loss in revenues due to cancellation to sub 10% and (b) do not dissuade the clients from booking,\n",
    "therefore increasing overall revenues by 5%?\n",
    "```"
   ]
  },
  {
   "cell_type": "markdown",
   "id": "a576b993",
   "metadata": {},
   "source": [
    "## 2. Project Links\n",
    "* Dataset Source: https://www.kaggle.com/competitions/99-dapt-sao-ih-hotel-booking/data\n",
    "* Project Proposal and Problem Statement Worksheet: http://localhost:8888/files/Capstone%202%20Project%20Proposal.pdf\n",
    "* Github Repository: https://github.com/lojames/springboard-capstone-project-2"
   ]
  },
  {
   "cell_type": "markdown",
   "id": "c8874f95",
   "metadata": {},
   "source": [
    "## 3. Imports"
   ]
  },
  {
   "cell_type": "code",
   "execution_count": 1,
   "id": "d63c71cf",
   "metadata": {},
   "outputs": [],
   "source": [
    "import pandas as pd\n",
    "import numpy as np"
   ]
  },
  {
   "cell_type": "markdown",
   "id": "583c1553",
   "metadata": {},
   "source": [
    "## 4. Data Collection\n",
    "\n",
    "Data sources:\n",
    "* tb_hotel_traintest.csv - the provided training set\n",
    "* tb_hotel_feat_valid_2.csv - the provided validation set"
   ]
  },
  {
   "cell_type": "code",
   "execution_count": 2,
   "id": "15c35a2a",
   "metadata": {},
   "outputs": [],
   "source": [
    "bookings_a = pd.read_csv('tb_hotel_traintest.csv')\n",
    "bookings_b = pd.read_csv('tb_hotel_feat_valid_2.csv')"
   ]
  },
  {
   "cell_type": "code",
   "execution_count": 3,
   "id": "93666469",
   "metadata": {},
   "outputs": [
    {
     "data": {
      "text/html": [
       "<div>\n",
       "<style scoped>\n",
       "    .dataframe tbody tr th:only-of-type {\n",
       "        vertical-align: middle;\n",
       "    }\n",
       "\n",
       "    .dataframe tbody tr th {\n",
       "        vertical-align: top;\n",
       "    }\n",
       "\n",
       "    .dataframe thead th {\n",
       "        text-align: right;\n",
       "    }\n",
       "</style>\n",
       "<table border=\"1\" class=\"dataframe\">\n",
       "  <thead>\n",
       "    <tr style=\"text-align: right;\">\n",
       "      <th></th>\n",
       "      <th>hotel</th>\n",
       "      <th>is_cancelled</th>\n",
       "      <th>lead_time</th>\n",
       "      <th>stays_in_weekend_nights</th>\n",
       "      <th>stays_in_week_nights</th>\n",
       "      <th>adults</th>\n",
       "      <th>children</th>\n",
       "      <th>babies</th>\n",
       "      <th>meal</th>\n",
       "      <th>country</th>\n",
       "      <th>...</th>\n",
       "      <th>agent</th>\n",
       "      <th>company</th>\n",
       "      <th>days_in_waiting_list</th>\n",
       "      <th>customer_type</th>\n",
       "      <th>adr</th>\n",
       "      <th>required_car_parking_spaces</th>\n",
       "      <th>total_of_special_requests</th>\n",
       "      <th>reservation_status_date</th>\n",
       "      <th>arrival_date</th>\n",
       "      <th>id_booking</th>\n",
       "    </tr>\n",
       "  </thead>\n",
       "  <tbody>\n",
       "    <tr>\n",
       "      <th>0</th>\n",
       "      <td>Resort Hotel</td>\n",
       "      <td>0</td>\n",
       "      <td>342</td>\n",
       "      <td>0</td>\n",
       "      <td>0</td>\n",
       "      <td>2</td>\n",
       "      <td>0.0</td>\n",
       "      <td>0</td>\n",
       "      <td>BB</td>\n",
       "      <td>PRT</td>\n",
       "      <td>...</td>\n",
       "      <td>NaN</td>\n",
       "      <td>NaN</td>\n",
       "      <td>0</td>\n",
       "      <td>Transient</td>\n",
       "      <td>0.0</td>\n",
       "      <td>0</td>\n",
       "      <td>0</td>\n",
       "      <td>2015-07-01</td>\n",
       "      <td>2015-07-01</td>\n",
       "      <td>0</td>\n",
       "    </tr>\n",
       "    <tr>\n",
       "      <th>1</th>\n",
       "      <td>Resort Hotel</td>\n",
       "      <td>0</td>\n",
       "      <td>737</td>\n",
       "      <td>0</td>\n",
       "      <td>0</td>\n",
       "      <td>2</td>\n",
       "      <td>0.0</td>\n",
       "      <td>0</td>\n",
       "      <td>BB</td>\n",
       "      <td>PRT</td>\n",
       "      <td>...</td>\n",
       "      <td>NaN</td>\n",
       "      <td>NaN</td>\n",
       "      <td>0</td>\n",
       "      <td>Transient</td>\n",
       "      <td>0.0</td>\n",
       "      <td>0</td>\n",
       "      <td>0</td>\n",
       "      <td>2015-07-01</td>\n",
       "      <td>2015-07-01</td>\n",
       "      <td>1</td>\n",
       "    </tr>\n",
       "  </tbody>\n",
       "</table>\n",
       "<p>2 rows × 29 columns</p>\n",
       "</div>"
      ],
      "text/plain": [
       "          hotel  is_cancelled  lead_time  stays_in_weekend_nights  \\\n",
       "0  Resort Hotel             0        342                        0   \n",
       "1  Resort Hotel             0        737                        0   \n",
       "\n",
       "   stays_in_week_nights  adults  children  babies meal country  ... agent  \\\n",
       "0                     0       2       0.0       0   BB     PRT  ...   NaN   \n",
       "1                     0       2       0.0       0   BB     PRT  ...   NaN   \n",
       "\n",
       "  company  days_in_waiting_list  customer_type  adr  \\\n",
       "0     NaN                     0      Transient  0.0   \n",
       "1     NaN                     0      Transient  0.0   \n",
       "\n",
       "  required_car_parking_spaces total_of_special_requests  \\\n",
       "0                           0                         0   \n",
       "1                           0                         0   \n",
       "\n",
       "   reservation_status_date arrival_date  id_booking  \n",
       "0               2015-07-01   2015-07-01           0  \n",
       "1               2015-07-01   2015-07-01           1  \n",
       "\n",
       "[2 rows x 29 columns]"
      ]
     },
     "execution_count": 3,
     "metadata": {},
     "output_type": "execute_result"
    }
   ],
   "source": [
    "bookings_a.head(2)"
   ]
  },
  {
   "cell_type": "code",
   "execution_count": 4,
   "id": "06ebf318",
   "metadata": {},
   "outputs": [
    {
     "data": {
      "text/html": [
       "<div>\n",
       "<style scoped>\n",
       "    .dataframe tbody tr th:only-of-type {\n",
       "        vertical-align: middle;\n",
       "    }\n",
       "\n",
       "    .dataframe tbody tr th {\n",
       "        vertical-align: top;\n",
       "    }\n",
       "\n",
       "    .dataframe thead th {\n",
       "        text-align: right;\n",
       "    }\n",
       "</style>\n",
       "<table border=\"1\" class=\"dataframe\">\n",
       "  <thead>\n",
       "    <tr style=\"text-align: right;\">\n",
       "      <th></th>\n",
       "      <th>hotel</th>\n",
       "      <th>lead_time</th>\n",
       "      <th>stays_in_weekend_nights</th>\n",
       "      <th>stays_in_week_nights</th>\n",
       "      <th>adults</th>\n",
       "      <th>children</th>\n",
       "      <th>babies</th>\n",
       "      <th>meal</th>\n",
       "      <th>country</th>\n",
       "      <th>market_segment</th>\n",
       "      <th>...</th>\n",
       "      <th>agent</th>\n",
       "      <th>company</th>\n",
       "      <th>days_in_waiting_list</th>\n",
       "      <th>customer_type</th>\n",
       "      <th>adr</th>\n",
       "      <th>required_car_parking_spaces</th>\n",
       "      <th>total_of_special_requests</th>\n",
       "      <th>reservation_status_date</th>\n",
       "      <th>arrival_date</th>\n",
       "      <th>id_booking</th>\n",
       "    </tr>\n",
       "  </thead>\n",
       "  <tbody>\n",
       "    <tr>\n",
       "      <th>0</th>\n",
       "      <td>Resort Hotel</td>\n",
       "      <td>113</td>\n",
       "      <td>2</td>\n",
       "      <td>5</td>\n",
       "      <td>2</td>\n",
       "      <td>0.0</td>\n",
       "      <td>0</td>\n",
       "      <td>BB</td>\n",
       "      <td>NOR</td>\n",
       "      <td>Offline TA/TO</td>\n",
       "      <td>...</td>\n",
       "      <td>156.0</td>\n",
       "      <td>NaN</td>\n",
       "      <td>0</td>\n",
       "      <td>Transient-Party</td>\n",
       "      <td>82.88</td>\n",
       "      <td>0</td>\n",
       "      <td>2</td>\n",
       "      <td>2015-03-11</td>\n",
       "      <td>2015-07-02</td>\n",
       "      <td>47</td>\n",
       "    </tr>\n",
       "    <tr>\n",
       "      <th>1</th>\n",
       "      <td>Resort Hotel</td>\n",
       "      <td>5</td>\n",
       "      <td>1</td>\n",
       "      <td>0</td>\n",
       "      <td>2</td>\n",
       "      <td>0.0</td>\n",
       "      <td>0</td>\n",
       "      <td>BB</td>\n",
       "      <td>PRT</td>\n",
       "      <td>Online TA</td>\n",
       "      <td>...</td>\n",
       "      <td>240.0</td>\n",
       "      <td>NaN</td>\n",
       "      <td>0</td>\n",
       "      <td>Transient</td>\n",
       "      <td>97.00</td>\n",
       "      <td>0</td>\n",
       "      <td>0</td>\n",
       "      <td>2015-06-30</td>\n",
       "      <td>2015-07-05</td>\n",
       "      <td>132</td>\n",
       "    </tr>\n",
       "  </tbody>\n",
       "</table>\n",
       "<p>2 rows × 28 columns</p>\n",
       "</div>"
      ],
      "text/plain": [
       "          hotel  lead_time  stays_in_weekend_nights  stays_in_week_nights  \\\n",
       "0  Resort Hotel        113                        2                     5   \n",
       "1  Resort Hotel          5                        1                     0   \n",
       "\n",
       "   adults  children  babies meal country market_segment  ...  agent  company  \\\n",
       "0       2       0.0       0   BB     NOR  Offline TA/TO  ...  156.0      NaN   \n",
       "1       2       0.0       0   BB     PRT      Online TA  ...  240.0      NaN   \n",
       "\n",
       "   days_in_waiting_list    customer_type    adr required_car_parking_spaces  \\\n",
       "0                     0  Transient-Party  82.88                           0   \n",
       "1                     0        Transient  97.00                           0   \n",
       "\n",
       "   total_of_special_requests reservation_status_date  arrival_date  id_booking  \n",
       "0                          2              2015-03-11    2015-07-02          47  \n",
       "1                          0              2015-06-30    2015-07-05         132  \n",
       "\n",
       "[2 rows x 28 columns]"
      ]
     },
     "execution_count": 4,
     "metadata": {},
     "output_type": "execute_result"
    }
   ],
   "source": [
    "bookings_b.head(2)"
   ]
  },
  {
   "cell_type": "code",
   "execution_count": 5,
   "id": "53be9e6b",
   "metadata": {},
   "outputs": [
    {
     "data": {
      "text/plain": [
       "{'is_cancelled'}"
      ]
     },
     "execution_count": 5,
     "metadata": {},
     "output_type": "execute_result"
    }
   ],
   "source": [
    "set(bookings_a.columns)-set(bookings_b.columns)"
   ]
  },
  {
   "cell_type": "code",
   "execution_count": 6,
   "id": "ca94df58",
   "metadata": {},
   "outputs": [
    {
     "data": {
      "text/plain": [
       "set()"
      ]
     },
     "execution_count": 6,
     "metadata": {},
     "output_type": "execute_result"
    }
   ],
   "source": [
    "set(bookings_b.columns)-set(bookings_a.columns)"
   ]
  },
  {
   "cell_type": "markdown",
   "id": "390550c1",
   "metadata": {},
   "source": [
    "As expected, the validation set does not have a is_cancelled column.  We will only use the data from set a to train and test models."
   ]
  },
  {
   "cell_type": "code",
   "execution_count": 7,
   "id": "efa4688b",
   "metadata": {},
   "outputs": [],
   "source": [
    "bookings = bookings_a"
   ]
  },
  {
   "cell_type": "markdown",
   "id": "d7d42ab0",
   "metadata": {},
   "source": [
    "## 5. Data Definition"
   ]
  },
  {
   "cell_type": "markdown",
   "id": "e64312b1",
   "metadata": {},
   "source": [
    "### 5.1. Column Names and Data Types"
   ]
  },
  {
   "cell_type": "code",
   "execution_count": 8,
   "id": "a07a824f",
   "metadata": {},
   "outputs": [
    {
     "name": "stdout",
     "output_type": "stream",
     "text": [
      "<class 'pandas.core.frame.DataFrame'>\n",
      "RangeIndex: 113409 entries, 0 to 113408\n",
      "Data columns (total 29 columns):\n",
      " #   Column                          Non-Null Count   Dtype  \n",
      "---  ------                          --------------   -----  \n",
      " 0   hotel                           113409 non-null  object \n",
      " 1   is_cancelled                    113409 non-null  int64  \n",
      " 2   lead_time                       113409 non-null  int64  \n",
      " 3   stays_in_weekend_nights         113409 non-null  int64  \n",
      " 4   stays_in_week_nights            113409 non-null  int64  \n",
      " 5   adults                          113409 non-null  int64  \n",
      " 6   children                        113406 non-null  float64\n",
      " 7   babies                          113409 non-null  int64  \n",
      " 8   meal                            113409 non-null  object \n",
      " 9   country                         112951 non-null  object \n",
      " 10  market_segment                  113409 non-null  object \n",
      " 11  distribution_channel            113409 non-null  object \n",
      " 12  is_repeated_guest               113409 non-null  int64  \n",
      " 13  previous_cancellations          113409 non-null  int64  \n",
      " 14  previous_bookings_not_canceled  113409 non-null  int64  \n",
      " 15  reserved_room_type              113409 non-null  object \n",
      " 16  assigned_room_type              113409 non-null  object \n",
      " 17  booking_changes                 113409 non-null  int64  \n",
      " 18  deposit_type                    113409 non-null  object \n",
      " 19  agent                           97918 non-null   float64\n",
      " 20  company                         6437 non-null    float64\n",
      " 21  days_in_waiting_list            113409 non-null  int64  \n",
      " 22  customer_type                   113409 non-null  object \n",
      " 23  adr                             113409 non-null  float64\n",
      " 24  required_car_parking_spaces     113409 non-null  int64  \n",
      " 25  total_of_special_requests       113409 non-null  int64  \n",
      " 26  reservation_status_date         113409 non-null  object \n",
      " 27  arrival_date                    113409 non-null  object \n",
      " 28  id_booking                      113409 non-null  int64  \n",
      "dtypes: float64(4), int64(14), object(11)\n",
      "memory usage: 25.1+ MB\n"
     ]
    }
   ],
   "source": [
    "bookings.info()"
   ]
  },
  {
   "cell_type": "code",
   "execution_count": 9,
   "id": "ecdab1de",
   "metadata": {},
   "outputs": [
    {
     "data": {
      "text/plain": [
       "\"\\nsorted_bookings_cols = bookings.columns.sort_values()\\ntemp = [print (f'    '{b}': ') for b in sorted_bookings_cols]\\n\""
      ]
     },
     "execution_count": 9,
     "metadata": {},
     "output_type": "execute_result"
    }
   ],
   "source": [
    "# Helper code to create object to change data types\n",
    "'''\n",
    "sorted_bookings_cols = bookings.columns.sort_values()\n",
    "temp = [print (f'    \\'{b}\\': ') for b in sorted_bookings_cols]\n",
    "'''"
   ]
  },
  {
   "cell_type": "code",
   "execution_count": 10,
   "id": "039811f9",
   "metadata": {},
   "outputs": [
    {
     "name": "stdout",
     "output_type": "stream",
     "text": [
      "<class 'pandas.core.frame.DataFrame'>\n",
      "RangeIndex: 113409 entries, 0 to 113408\n",
      "Data columns (total 29 columns):\n",
      " #   Column                          Non-Null Count   Dtype         \n",
      "---  ------                          --------------   -----         \n",
      " 0   hotel                           113409 non-null  string        \n",
      " 1   is_cancelled                    113409 non-null  category      \n",
      " 2   lead_time                       113409 non-null  int64         \n",
      " 3   stays_in_weekend_nights         113409 non-null  int64         \n",
      " 4   stays_in_week_nights            113409 non-null  int64         \n",
      " 5   adults                          113409 non-null  int64         \n",
      " 6   children                        113406 non-null  float64       \n",
      " 7   babies                          113409 non-null  int64         \n",
      " 8   meal                            113409 non-null  category      \n",
      " 9   country                         112951 non-null  category      \n",
      " 10  market_segment                  113409 non-null  category      \n",
      " 11  distribution_channel            113409 non-null  category      \n",
      " 12  is_repeated_guest               113409 non-null  category      \n",
      " 13  previous_cancellations          113409 non-null  int64         \n",
      " 14  previous_bookings_not_canceled  113409 non-null  int64         \n",
      " 15  reserved_room_type              113409 non-null  category      \n",
      " 16  assigned_room_type              113409 non-null  category      \n",
      " 17  booking_changes                 113409 non-null  int64         \n",
      " 18  deposit_type                    113409 non-null  category      \n",
      " 19  agent                           97918 non-null   category      \n",
      " 20  company                         6437 non-null    category      \n",
      " 21  days_in_waiting_list            113409 non-null  int64         \n",
      " 22  customer_type                   113409 non-null  category      \n",
      " 23  adr                             113409 non-null  float64       \n",
      " 24  required_car_parking_spaces     113409 non-null  int64         \n",
      " 25  total_of_special_requests       113409 non-null  int64         \n",
      " 26  reservation_status_date         113409 non-null  datetime64[ns]\n",
      " 27  arrival_date                    113409 non-null  datetime64[ns]\n",
      " 28  id_booking                      113409 non-null  int64         \n",
      "dtypes: category(12), datetime64[ns](2), float64(2), int64(12), string(1)\n",
      "memory usage: 16.4 MB\n"
     ]
    }
   ],
   "source": [
    "new_data_types = {\n",
    "    'agent': 'category',\n",
    "    'arrival_date': 'datetime64',\n",
    "    'assigned_room_type': 'category',\n",
    "    'company': 'category',\n",
    "    'country': 'category',\n",
    "    'customer_type': 'category',\n",
    "    'deposit_type': 'category',\n",
    "    'distribution_channel': 'category',\n",
    "    'is_cancelled': 'category',\n",
    "    'is_repeated_guest': 'category',\n",
    "    'market_segment': 'category',\n",
    "    'meal': 'category', \n",
    "    'reservation_status_date': 'datetime64',\n",
    "    'reserved_room_type': 'category',\n",
    "    'hotel': 'string'\n",
    "}\n",
    "\n",
    "bookings = bookings.astype(new_data_types)\n",
    "bookings.info()"
   ]
  },
  {
   "cell_type": "markdown",
   "id": "8a92743a",
   "metadata": {},
   "source": [
    "### 5.2. Column Descriptions"
   ]
  },
  {
   "cell_type": "code",
   "execution_count": 11,
   "id": "e08b8929",
   "metadata": {},
   "outputs": [
    {
     "data": {
      "text/html": [
       "<div>\n",
       "<style scoped>\n",
       "    .dataframe tbody tr th:only-of-type {\n",
       "        vertical-align: middle;\n",
       "    }\n",
       "\n",
       "    .dataframe tbody tr th {\n",
       "        vertical-align: top;\n",
       "    }\n",
       "\n",
       "    .dataframe thead th {\n",
       "        text-align: right;\n",
       "    }\n",
       "</style>\n",
       "<table border=\"1\" class=\"dataframe\">\n",
       "  <thead>\n",
       "    <tr style=\"text-align: right;\">\n",
       "      <th></th>\n",
       "      <th>count</th>\n",
       "      <th>mean</th>\n",
       "      <th>std</th>\n",
       "      <th>min</th>\n",
       "      <th>25%</th>\n",
       "      <th>50%</th>\n",
       "      <th>75%</th>\n",
       "      <th>max</th>\n",
       "    </tr>\n",
       "  </thead>\n",
       "  <tbody>\n",
       "    <tr>\n",
       "      <th>lead_time</th>\n",
       "      <td>113409.0</td>\n",
       "      <td>104.109074</td>\n",
       "      <td>106.894825</td>\n",
       "      <td>0.00</td>\n",
       "      <td>18.0</td>\n",
       "      <td>69.0</td>\n",
       "      <td>161.0</td>\n",
       "      <td>737.0</td>\n",
       "    </tr>\n",
       "    <tr>\n",
       "      <th>stays_in_weekend_nights</th>\n",
       "      <td>113409.0</td>\n",
       "      <td>0.927907</td>\n",
       "      <td>0.998723</td>\n",
       "      <td>0.00</td>\n",
       "      <td>0.0</td>\n",
       "      <td>1.0</td>\n",
       "      <td>2.0</td>\n",
       "      <td>19.0</td>\n",
       "    </tr>\n",
       "    <tr>\n",
       "      <th>stays_in_week_nights</th>\n",
       "      <td>113409.0</td>\n",
       "      <td>2.500498</td>\n",
       "      <td>1.906670</td>\n",
       "      <td>0.00</td>\n",
       "      <td>1.0</td>\n",
       "      <td>2.0</td>\n",
       "      <td>3.0</td>\n",
       "      <td>50.0</td>\n",
       "    </tr>\n",
       "    <tr>\n",
       "      <th>adults</th>\n",
       "      <td>113409.0</td>\n",
       "      <td>1.857304</td>\n",
       "      <td>0.583753</td>\n",
       "      <td>0.00</td>\n",
       "      <td>2.0</td>\n",
       "      <td>2.0</td>\n",
       "      <td>2.0</td>\n",
       "      <td>55.0</td>\n",
       "    </tr>\n",
       "    <tr>\n",
       "      <th>children</th>\n",
       "      <td>113406.0</td>\n",
       "      <td>0.104227</td>\n",
       "      <td>0.398976</td>\n",
       "      <td>0.00</td>\n",
       "      <td>0.0</td>\n",
       "      <td>0.0</td>\n",
       "      <td>0.0</td>\n",
       "      <td>10.0</td>\n",
       "    </tr>\n",
       "    <tr>\n",
       "      <th>babies</th>\n",
       "      <td>113409.0</td>\n",
       "      <td>0.007980</td>\n",
       "      <td>0.098027</td>\n",
       "      <td>0.00</td>\n",
       "      <td>0.0</td>\n",
       "      <td>0.0</td>\n",
       "      <td>0.0</td>\n",
       "      <td>10.0</td>\n",
       "    </tr>\n",
       "    <tr>\n",
       "      <th>previous_cancellations</th>\n",
       "      <td>113409.0</td>\n",
       "      <td>0.087101</td>\n",
       "      <td>0.844538</td>\n",
       "      <td>0.00</td>\n",
       "      <td>0.0</td>\n",
       "      <td>0.0</td>\n",
       "      <td>0.0</td>\n",
       "      <td>26.0</td>\n",
       "    </tr>\n",
       "    <tr>\n",
       "      <th>previous_bookings_not_canceled</th>\n",
       "      <td>113409.0</td>\n",
       "      <td>0.136330</td>\n",
       "      <td>1.497662</td>\n",
       "      <td>0.00</td>\n",
       "      <td>0.0</td>\n",
       "      <td>0.0</td>\n",
       "      <td>0.0</td>\n",
       "      <td>72.0</td>\n",
       "    </tr>\n",
       "    <tr>\n",
       "      <th>booking_changes</th>\n",
       "      <td>113409.0</td>\n",
       "      <td>0.220917</td>\n",
       "      <td>0.649771</td>\n",
       "      <td>0.00</td>\n",
       "      <td>0.0</td>\n",
       "      <td>0.0</td>\n",
       "      <td>0.0</td>\n",
       "      <td>21.0</td>\n",
       "    </tr>\n",
       "    <tr>\n",
       "      <th>days_in_waiting_list</th>\n",
       "      <td>113409.0</td>\n",
       "      <td>2.326200</td>\n",
       "      <td>17.613897</td>\n",
       "      <td>0.00</td>\n",
       "      <td>0.0</td>\n",
       "      <td>0.0</td>\n",
       "      <td>0.0</td>\n",
       "      <td>391.0</td>\n",
       "    </tr>\n",
       "    <tr>\n",
       "      <th>adr</th>\n",
       "      <td>113409.0</td>\n",
       "      <td>101.882431</td>\n",
       "      <td>50.626711</td>\n",
       "      <td>-6.38</td>\n",
       "      <td>69.4</td>\n",
       "      <td>94.9</td>\n",
       "      <td>126.0</td>\n",
       "      <td>5400.0</td>\n",
       "    </tr>\n",
       "    <tr>\n",
       "      <th>required_car_parking_spaces</th>\n",
       "      <td>113409.0</td>\n",
       "      <td>0.062367</td>\n",
       "      <td>0.245190</td>\n",
       "      <td>0.00</td>\n",
       "      <td>0.0</td>\n",
       "      <td>0.0</td>\n",
       "      <td>0.0</td>\n",
       "      <td>8.0</td>\n",
       "    </tr>\n",
       "    <tr>\n",
       "      <th>total_of_special_requests</th>\n",
       "      <td>113409.0</td>\n",
       "      <td>0.571612</td>\n",
       "      <td>0.792979</td>\n",
       "      <td>0.00</td>\n",
       "      <td>0.0</td>\n",
       "      <td>0.0</td>\n",
       "      <td>1.0</td>\n",
       "      <td>5.0</td>\n",
       "    </tr>\n",
       "    <tr>\n",
       "      <th>id_booking</th>\n",
       "      <td>113409.0</td>\n",
       "      <td>59714.795969</td>\n",
       "      <td>34464.577528</td>\n",
       "      <td>0.00</td>\n",
       "      <td>29879.0</td>\n",
       "      <td>59708.0</td>\n",
       "      <td>89584.0</td>\n",
       "      <td>119389.0</td>\n",
       "    </tr>\n",
       "  </tbody>\n",
       "</table>\n",
       "</div>"
      ],
      "text/plain": [
       "                                   count          mean           std   min  \\\n",
       "lead_time                       113409.0    104.109074    106.894825  0.00   \n",
       "stays_in_weekend_nights         113409.0      0.927907      0.998723  0.00   \n",
       "stays_in_week_nights            113409.0      2.500498      1.906670  0.00   \n",
       "adults                          113409.0      1.857304      0.583753  0.00   \n",
       "children                        113406.0      0.104227      0.398976  0.00   \n",
       "babies                          113409.0      0.007980      0.098027  0.00   \n",
       "previous_cancellations          113409.0      0.087101      0.844538  0.00   \n",
       "previous_bookings_not_canceled  113409.0      0.136330      1.497662  0.00   \n",
       "booking_changes                 113409.0      0.220917      0.649771  0.00   \n",
       "days_in_waiting_list            113409.0      2.326200     17.613897  0.00   \n",
       "adr                             113409.0    101.882431     50.626711 -6.38   \n",
       "required_car_parking_spaces     113409.0      0.062367      0.245190  0.00   \n",
       "total_of_special_requests       113409.0      0.571612      0.792979  0.00   \n",
       "id_booking                      113409.0  59714.795969  34464.577528  0.00   \n",
       "\n",
       "                                    25%      50%      75%       max  \n",
       "lead_time                          18.0     69.0    161.0     737.0  \n",
       "stays_in_weekend_nights             0.0      1.0      2.0      19.0  \n",
       "stays_in_week_nights                1.0      2.0      3.0      50.0  \n",
       "adults                              2.0      2.0      2.0      55.0  \n",
       "children                            0.0      0.0      0.0      10.0  \n",
       "babies                              0.0      0.0      0.0      10.0  \n",
       "previous_cancellations              0.0      0.0      0.0      26.0  \n",
       "previous_bookings_not_canceled      0.0      0.0      0.0      72.0  \n",
       "booking_changes                     0.0      0.0      0.0      21.0  \n",
       "days_in_waiting_list                0.0      0.0      0.0     391.0  \n",
       "adr                                69.4     94.9    126.0    5400.0  \n",
       "required_car_parking_spaces         0.0      0.0      0.0       8.0  \n",
       "total_of_special_requests           0.0      0.0      1.0       5.0  \n",
       "id_booking                      29879.0  59708.0  89584.0  119389.0  "
      ]
     },
     "execution_count": 11,
     "metadata": {},
     "output_type": "execute_result"
    }
   ],
   "source": [
    "description = bookings.describe()\n",
    "description.T"
   ]
  },
  {
   "cell_type": "markdown",
   "id": "b21aafc7",
   "metadata": {},
   "source": [
    "### 5.3. Counts and Percents of Unique Values"
   ]
  },
  {
   "cell_type": "code",
   "execution_count": 12,
   "id": "57d6a1d1",
   "metadata": {},
   "outputs": [
    {
     "name": "stdout",
     "output_type": "stream",
     "text": [
      "Number of Unique Values Per Column\n",
      "hotel                                  2\n",
      "is_cancelled                           2\n",
      "lead_time                            478\n",
      "stays_in_weekend_nights               17\n",
      "stays_in_week_nights                  35\n",
      "adults                                14\n",
      "children                               5\n",
      "babies                                 5\n",
      "meal                                   5\n",
      "country                              174\n",
      "market_segment                         8\n",
      "distribution_channel                   5\n",
      "is_repeated_guest                      2\n",
      "previous_cancellations                15\n",
      "previous_bookings_not_canceled        72\n",
      "reserved_room_type                    10\n",
      "assigned_room_type                    12\n",
      "booking_changes                       20\n",
      "deposit_type                           3\n",
      "agent                                327\n",
      "company                              348\n",
      "days_in_waiting_list                 127\n",
      "customer_type                          4\n",
      "adr                                 8653\n",
      "required_car_parking_spaces            5\n",
      "total_of_special_requests              6\n",
      "reservation_status_date              926\n",
      "arrival_date                         793\n",
      "id_booking                        113409\n",
      "dtype: int64\n"
     ]
    }
   ],
   "source": [
    "num_unique = bookings.nunique()\n",
    "print (f'Number of Unique Values Per Column\\n{num_unique}')"
   ]
  },
  {
   "cell_type": "code",
   "execution_count": 13,
   "id": "b5d10912",
   "metadata": {},
   "outputs": [
    {
     "name": "stdout",
     "output_type": "stream",
     "text": [
      "Percent Unique Values By Column\n",
      "hotel                               0.001764\n",
      "is_cancelled                        0.001764\n",
      "lead_time                           0.421483\n",
      "stays_in_weekend_nights             0.014990\n",
      "stays_in_week_nights                0.030862\n",
      "adults                              0.012345\n",
      "children                            0.004409\n",
      "babies                              0.004409\n",
      "meal                                0.004409\n",
      "country                             0.153427\n",
      "market_segment                      0.007054\n",
      "distribution_channel                0.004409\n",
      "is_repeated_guest                   0.001764\n",
      "previous_cancellations              0.013226\n",
      "previous_bookings_not_canceled      0.063487\n",
      "reserved_room_type                  0.008818\n",
      "assigned_room_type                  0.010581\n",
      "booking_changes                     0.017635\n",
      "deposit_type                        0.002645\n",
      "agent                               0.288337\n",
      "company                             0.306854\n",
      "days_in_waiting_list                0.111984\n",
      "customer_type                       0.003527\n",
      "adr                                 7.629906\n",
      "required_car_parking_spaces         0.004409\n",
      "total_of_special_requests           0.005291\n",
      "reservation_status_date             0.816514\n",
      "arrival_date                        0.699239\n",
      "id_booking                        100.000000\n",
      "dtype: float64\n"
     ]
    }
   ],
   "source": [
    "percent_unique = num_unique/len(bookings)*100\n",
    "print (f'Percent Unique Values By Column\\n{percent_unique}')"
   ]
  },
  {
   "cell_type": "markdown",
   "id": "3c927ae4",
   "metadata": {},
   "source": [
    "### 5.4. Range of Values"
   ]
  },
  {
   "cell_type": "code",
   "execution_count": 14,
   "id": "e9789008",
   "metadata": {},
   "outputs": [
    {
     "data": {
      "text/html": [
       "<div>\n",
       "<style scoped>\n",
       "    .dataframe tbody tr th:only-of-type {\n",
       "        vertical-align: middle;\n",
       "    }\n",
       "\n",
       "    .dataframe tbody tr th {\n",
       "        vertical-align: top;\n",
       "    }\n",
       "\n",
       "    .dataframe thead th {\n",
       "        text-align: right;\n",
       "    }\n",
       "</style>\n",
       "<table border=\"1\" class=\"dataframe\">\n",
       "  <thead>\n",
       "    <tr style=\"text-align: right;\">\n",
       "      <th></th>\n",
       "      <th>min</th>\n",
       "      <th>max</th>\n",
       "    </tr>\n",
       "  </thead>\n",
       "  <tbody>\n",
       "    <tr>\n",
       "      <th>lead_time</th>\n",
       "      <td>0.00</td>\n",
       "      <td>737.0</td>\n",
       "    </tr>\n",
       "    <tr>\n",
       "      <th>stays_in_weekend_nights</th>\n",
       "      <td>0.00</td>\n",
       "      <td>19.0</td>\n",
       "    </tr>\n",
       "    <tr>\n",
       "      <th>stays_in_week_nights</th>\n",
       "      <td>0.00</td>\n",
       "      <td>50.0</td>\n",
       "    </tr>\n",
       "    <tr>\n",
       "      <th>adults</th>\n",
       "      <td>0.00</td>\n",
       "      <td>55.0</td>\n",
       "    </tr>\n",
       "    <tr>\n",
       "      <th>children</th>\n",
       "      <td>0.00</td>\n",
       "      <td>10.0</td>\n",
       "    </tr>\n",
       "    <tr>\n",
       "      <th>babies</th>\n",
       "      <td>0.00</td>\n",
       "      <td>10.0</td>\n",
       "    </tr>\n",
       "    <tr>\n",
       "      <th>previous_cancellations</th>\n",
       "      <td>0.00</td>\n",
       "      <td>26.0</td>\n",
       "    </tr>\n",
       "    <tr>\n",
       "      <th>previous_bookings_not_canceled</th>\n",
       "      <td>0.00</td>\n",
       "      <td>72.0</td>\n",
       "    </tr>\n",
       "    <tr>\n",
       "      <th>booking_changes</th>\n",
       "      <td>0.00</td>\n",
       "      <td>21.0</td>\n",
       "    </tr>\n",
       "    <tr>\n",
       "      <th>days_in_waiting_list</th>\n",
       "      <td>0.00</td>\n",
       "      <td>391.0</td>\n",
       "    </tr>\n",
       "    <tr>\n",
       "      <th>adr</th>\n",
       "      <td>-6.38</td>\n",
       "      <td>5400.0</td>\n",
       "    </tr>\n",
       "    <tr>\n",
       "      <th>required_car_parking_spaces</th>\n",
       "      <td>0.00</td>\n",
       "      <td>8.0</td>\n",
       "    </tr>\n",
       "    <tr>\n",
       "      <th>total_of_special_requests</th>\n",
       "      <td>0.00</td>\n",
       "      <td>5.0</td>\n",
       "    </tr>\n",
       "    <tr>\n",
       "      <th>id_booking</th>\n",
       "      <td>0.00</td>\n",
       "      <td>119389.0</td>\n",
       "    </tr>\n",
       "  </tbody>\n",
       "</table>\n",
       "</div>"
      ],
      "text/plain": [
       "                                 min       max\n",
       "lead_time                       0.00     737.0\n",
       "stays_in_weekend_nights         0.00      19.0\n",
       "stays_in_week_nights            0.00      50.0\n",
       "adults                          0.00      55.0\n",
       "children                        0.00      10.0\n",
       "babies                          0.00      10.0\n",
       "previous_cancellations          0.00      26.0\n",
       "previous_bookings_not_canceled  0.00      72.0\n",
       "booking_changes                 0.00      21.0\n",
       "days_in_waiting_list            0.00     391.0\n",
       "adr                            -6.38    5400.0\n",
       "required_car_parking_spaces     0.00       8.0\n",
       "total_of_special_requests       0.00       5.0\n",
       "id_booking                      0.00  119389.0"
      ]
     },
     "execution_count": 14,
     "metadata": {},
     "output_type": "execute_result"
    }
   ],
   "source": [
    "description.loc[['min','max']].T"
   ]
  },
  {
   "cell_type": "markdown",
   "id": "33e68856",
   "metadata": {},
   "source": [
    "### 5.5. Considerations\n",
    "\n",
    "***Do your column names correspond to what those columns store?***\n",
    "\n",
    "Yes.  A quick examination done in 4 of the first 20 rows seems to indicate so.  Further examination will be done later in the data cleaning step.\n",
    "\n",
    "***Check the data types of your columns. Are they sensible?***\n",
    "\n",
    "Yes.  Datatypes were changed accordingly above in 5.1.\n",
    "\n",
    "***Calculate summary statistics for each of your columns, such\n",
    "as mean, median, mode, standard deviation, range, and\n",
    "number of unique values. What does this tell you about your\n",
    "data?***\n",
    "\n",
    "These summary statistics reveal the central tendency, dispersion, and shape of the dataset's distributions.  Furthermore, the validity of the data can be analyzed through these statistics.\n",
    "\n",
    "***What do you now need to investigate?***\n",
    "\n",
    "Missing values, duplicates, and outliers."
   ]
  },
  {
   "cell_type": "markdown",
   "id": "c79fb9dd",
   "metadata": {},
   "source": [
    "## 6. Data Cleaning"
   ]
  },
  {
   "cell_type": "code",
   "execution_count": 15,
   "id": "78acc0c2",
   "metadata": {},
   "outputs": [],
   "source": [
    "bookings_cleaned = bookings.copy(deep=True)"
   ]
  },
  {
   "cell_type": "markdown",
   "id": "f3379616",
   "metadata": {},
   "source": [
    "### 6.1. Missing Values"
   ]
  },
  {
   "cell_type": "code",
   "execution_count": 16,
   "id": "9644a17d",
   "metadata": {},
   "outputs": [
    {
     "data": {
      "text/plain": [
       "hotel                                  0\n",
       "is_cancelled                           0\n",
       "lead_time                              0\n",
       "stays_in_weekend_nights                0\n",
       "stays_in_week_nights                   0\n",
       "adults                                 0\n",
       "children                               3\n",
       "babies                                 0\n",
       "meal                                   0\n",
       "country                              458\n",
       "market_segment                         0\n",
       "distribution_channel                   0\n",
       "is_repeated_guest                      0\n",
       "previous_cancellations                 0\n",
       "previous_bookings_not_canceled         0\n",
       "reserved_room_type                     0\n",
       "assigned_room_type                     0\n",
       "booking_changes                        0\n",
       "deposit_type                           0\n",
       "agent                              15491\n",
       "company                           106972\n",
       "days_in_waiting_list                   0\n",
       "customer_type                          0\n",
       "adr                                    0\n",
       "required_car_parking_spaces            0\n",
       "total_of_special_requests              0\n",
       "reservation_status_date                0\n",
       "arrival_date                           0\n",
       "id_booking                             0\n",
       "dtype: int64"
      ]
     },
     "execution_count": 16,
     "metadata": {},
     "output_type": "execute_result"
    }
   ],
   "source": [
    "bookings_cleaned.isna().sum()"
   ]
  },
  {
   "cell_type": "markdown",
   "id": "246f0278",
   "metadata": {},
   "source": [
    "The following columns have missing values that need to be addressed:\n",
    "* `children`\n",
    "* `country`\n",
    "* `agent`\n",
    "* `company`"
   ]
  },
  {
   "cell_type": "markdown",
   "id": "c47a8950",
   "metadata": {},
   "source": [
    "#### 6.1.1 'children' Missing Values\n",
    "Only 3 reservations have missing values in the children column."
   ]
  },
  {
   "cell_type": "code",
   "execution_count": 17,
   "id": "9d136863",
   "metadata": {},
   "outputs": [
    {
     "data": {
      "text/plain": [
       "0.0     105210\n",
       "1.0       4652\n",
       "2.0       3471\n",
       "3.0         72\n",
       "10.0         1\n",
       "Name: children, dtype: int64"
      ]
     },
     "execution_count": 17,
     "metadata": {},
     "output_type": "execute_result"
    }
   ],
   "source": [
    "bookings_cleaned['children'].value_counts()"
   ]
  },
  {
   "cell_type": "markdown",
   "id": "d0baae00",
   "metadata": {},
   "source": [
    "The mode of the column is 0. Since the vast majority of reservations have 0 children (more than 92.77%), imputing with 0 is the best quick and dirty approach."
   ]
  },
  {
   "cell_type": "code",
   "execution_count": 18,
   "id": "d9fc082d",
   "metadata": {},
   "outputs": [
    {
     "data": {
      "text/plain": [
       "0.0     105213\n",
       "1.0       4652\n",
       "2.0       3471\n",
       "3.0         72\n",
       "10.0         1\n",
       "Name: children, dtype: int64"
      ]
     },
     "execution_count": 18,
     "metadata": {},
     "output_type": "execute_result"
    }
   ],
   "source": [
    "bookings_cleaned['children'].fillna(0, inplace=True)\n",
    "bookings_cleaned['children'].value_counts()"
   ]
  },
  {
   "cell_type": "markdown",
   "id": "17dac26e",
   "metadata": {},
   "source": [
    "#### 6.1.2 'country' Missing Values\n",
    "There are only 458 missing values for 'country'.  While this number is well under the threshold for dropping the rows with the missing values, the missing values can be assigned to an unused 3 letter code."
   ]
  },
  {
   "cell_type": "code",
   "execution_count": 19,
   "id": "b678552e",
   "metadata": {},
   "outputs": [
    {
     "data": {
      "text/plain": [
       "PRT    46213\n",
       "GBR    11487\n",
       "FRA     9890\n",
       "ESP     8162\n",
       "DEU     6919\n",
       "       ...  \n",
       "MDG        1\n",
       "MMR        1\n",
       "SMR        1\n",
       "MRT        1\n",
       "PYF        1\n",
       "Name: country, Length: 174, dtype: int64"
      ]
     },
     "execution_count": 19,
     "metadata": {},
     "output_type": "execute_result"
    }
   ],
   "source": [
    "bookings_cleaned['country'].value_counts()"
   ]
  },
  {
   "cell_type": "markdown",
   "id": "26f75bc4",
   "metadata": {},
   "source": [
    "While the documentation specifies that the coutnry values are of the ISO 3155–3:2013 standard, this standard is not readily viewable online. The ISO 3166-1 alpha 3 code standard will be referenced (https://en.wikipedia.org/wiki/ISO_3166-1_alpha-3) instead. The codes have been saved to the text file `country_codes.txt`.\n",
    "\n",
    "A quick sanity check:"
   ]
  },
  {
   "cell_type": "code",
   "execution_count": 20,
   "id": "fd71ccaa",
   "metadata": {},
   "outputs": [
    {
     "data": {
      "text/plain": [
       "'Portugal'"
      ]
     },
     "execution_count": 20,
     "metadata": {},
     "output_type": "execute_result"
    }
   ],
   "source": [
    "# Creating a dictionary of countries with ISO 3166-1 alpha 3 as the key and the country name as value.\n",
    "country_codes = []\n",
    "country_names = []\n",
    "with open('country_codes.txt', encoding = 'utf8') as file:\n",
    "    for line in file:\n",
    "        country_codes += [line[0:3]]\n",
    "        country_names += [line[5:-1]]\n",
    "countries_dictionary = dict(zip(country_codes,country_names))\n",
    "countries_dictionary['PRT']"
   ]
  },
  {
   "cell_type": "code",
   "execution_count": 21,
   "id": "45ad36d6",
   "metadata": {},
   "outputs": [
    {
     "data": {
      "text/plain": [
       "[NaN, 'CN', 'TMP']\n",
       "Categories (174, object): ['ABW', 'AGO', 'AIA', 'ALB', ..., 'VGB', 'VNM', 'ZAF', 'ZWE']"
      ]
     },
     "execution_count": 21,
     "metadata": {},
     "output_type": "execute_result"
    }
   ],
   "source": [
    "country_codes_set = set(country_codes)\n",
    "bookings[~bookings['country'].isin(country_codes_set)]['country'].unique()"
   ]
  },
  {
   "cell_type": "markdown",
   "id": "5a07e337",
   "metadata": {},
   "source": [
    "Unfortunately, it's clear that the standards are not exactly the same; however the standards seem to be similar.  Again since the ISO 3155–3:2013 standard is not readily available, we have to do with what we have.\n",
    "\n",
    "With regards to missing values, the ISO 3166-1 alpha 3 standards has various 3 letter codes that can be user assigned including `ZZZ`.  `ZZZ` will be used to specify missing values."
   ]
  },
  {
   "cell_type": "code",
   "execution_count": 22,
   "id": "d075c144",
   "metadata": {},
   "outputs": [
    {
     "data": {
      "text/plain": [
       "0"
      ]
     },
     "execution_count": 22,
     "metadata": {},
     "output_type": "execute_result"
    }
   ],
   "source": [
    "bookings_cleaned['country'] = bookings_cleaned['country'].cat.add_categories('ZZZ')\n",
    "bookings_cleaned['country'].fillna('ZZZ', inplace=True)\n",
    "bookings_cleaned['country'].isna().sum()"
   ]
  },
  {
   "cell_type": "code",
   "execution_count": 23,
   "id": "236db23b",
   "metadata": {},
   "outputs": [
    {
     "data": {
      "text/plain": [
       "458"
      ]
     },
     "execution_count": 23,
     "metadata": {},
     "output_type": "execute_result"
    }
   ],
   "source": [
    "bookings_cleaned['country'].value_counts()['ZZZ']"
   ]
  },
  {
   "cell_type": "markdown",
   "id": "e09ad7da",
   "metadata": {},
   "source": [
    "#### 6.1.3 'agent' Missing Values\n",
    "There are 15491 missing"
   ]
  },
  {
   "cell_type": "code",
   "execution_count": 24,
   "id": "1a0b13b3",
   "metadata": {},
   "outputs": [
    {
     "name": "stdout",
     "output_type": "stream",
     "text": [
      "13.66% of values are missing.\n"
     ]
    }
   ],
   "source": [
    "print (f'{15491/len(bookings)*100:.2f}% of values are missing.')"
   ]
  },
  {
   "cell_type": "markdown",
   "id": "be09e472",
   "metadata": {},
   "source": [
    "While we can opt to drop the reservations with missing agent values, it may be better to assign the missing values to an unused value."
   ]
  },
  {
   "cell_type": "code",
   "execution_count": 50,
   "id": "c85ccb34",
   "metadata": {},
   "outputs": [
    {
     "data": {
      "text/plain": [
       "1.0"
      ]
     },
     "execution_count": 50,
     "metadata": {},
     "output_type": "execute_result"
    }
   ],
   "source": [
    "np.array(bookings['agent'].cat.categories).min()"
   ]
  },
  {
   "cell_type": "markdown",
   "id": "adeffeaf",
   "metadata": {},
   "source": [
    "Since the lowest value used for the agent category is 1, we can safetly designate 0 as missing values."
   ]
  },
  {
   "cell_type": "code",
   "execution_count": 51,
   "id": "c54a32ac",
   "metadata": {},
   "outputs": [],
   "source": [
    "bookings_cleaned['agent'] = bookings_cleaned['agent'].cat.add_categories(0)"
   ]
  },
  {
   "cell_type": "code",
   "execution_count": 52,
   "id": "b12ac9ee",
   "metadata": {},
   "outputs": [
    {
     "data": {
      "text/plain": [
       "0"
      ]
     },
     "execution_count": 52,
     "metadata": {},
     "output_type": "execute_result"
    }
   ],
   "source": [
    "bookings_cleaned['agent'].fillna(0, inplace=True)\n",
    "bookings_cleaned['agent'].isna().sum()"
   ]
  },
  {
   "cell_type": "code",
   "execution_count": 59,
   "id": "de4ca3c3",
   "metadata": {},
   "outputs": [
    {
     "data": {
      "text/plain": [
       "15491"
      ]
     },
     "execution_count": 59,
     "metadata": {},
     "output_type": "execute_result"
    }
   ],
   "source": [
    "bookings_cleaned['agent'].value_counts()[0]"
   ]
  },
  {
   "cell_type": "markdown",
   "id": "adb3d517",
   "metadata": {},
   "source": [
    "#### 6.1.4 'company' Missing Values\n",
    "There are 106972 missing values for company."
   ]
  },
  {
   "cell_type": "code",
   "execution_count": 54,
   "id": "c0f6af9d",
   "metadata": {},
   "outputs": [
    {
     "name": "stdout",
     "output_type": "stream",
     "text": [
      "94.32% of values are missing.\n"
     ]
    }
   ],
   "source": [
    "print (f'{106972/len(bookings)*100:.2f}% of values are missing.')"
   ]
  },
  {
   "cell_type": "markdown",
   "id": "8dfc4a78",
   "metadata": {},
   "source": [
    "Since the vast majority of rows are missing values for `company`, it's best if missing values are reassigned."
   ]
  },
  {
   "cell_type": "code",
   "execution_count": 55,
   "id": "caed0b13",
   "metadata": {},
   "outputs": [
    {
     "data": {
      "text/plain": [
       "6.0"
      ]
     },
     "execution_count": 55,
     "metadata": {},
     "output_type": "execute_result"
    }
   ],
   "source": [
    "np.array(bookings['company'].cat.categories).min()"
   ]
  },
  {
   "cell_type": "markdown",
   "id": "363f8676",
   "metadata": {},
   "source": [
    "0 is a safe value to reassign."
   ]
  },
  {
   "cell_type": "code",
   "execution_count": 56,
   "id": "c98f3359",
   "metadata": {},
   "outputs": [],
   "source": [
    "bookings_cleaned['company'] = bookings_cleaned['company'].cat.add_categories(0)"
   ]
  },
  {
   "cell_type": "code",
   "execution_count": 57,
   "id": "e43a4362",
   "metadata": {},
   "outputs": [
    {
     "data": {
      "text/plain": [
       "0"
      ]
     },
     "execution_count": 57,
     "metadata": {},
     "output_type": "execute_result"
    }
   ],
   "source": [
    "bookings_cleaned['company'].fillna(0, inplace=True)\n",
    "bookings_cleaned['company'].isna().sum()"
   ]
  },
  {
   "cell_type": "code",
   "execution_count": 60,
   "id": "06c05883",
   "metadata": {},
   "outputs": [
    {
     "data": {
      "text/plain": [
       "106972"
      ]
     },
     "execution_count": 60,
     "metadata": {},
     "output_type": "execute_result"
    }
   ],
   "source": [
    "bookings_cleaned['company'].value_counts()[0]"
   ]
  },
  {
   "cell_type": "markdown",
   "id": "b7c74c72",
   "metadata": {},
   "source": [
    "### 6.2 Duplicated Values"
   ]
  },
  {
   "cell_type": "code",
   "execution_count": 73,
   "id": "db3acdc9",
   "metadata": {},
   "outputs": [
    {
     "data": {
      "text/html": [
       "<div>\n",
       "<style scoped>\n",
       "    .dataframe tbody tr th:only-of-type {\n",
       "        vertical-align: middle;\n",
       "    }\n",
       "\n",
       "    .dataframe tbody tr th {\n",
       "        vertical-align: top;\n",
       "    }\n",
       "\n",
       "    .dataframe thead th {\n",
       "        text-align: right;\n",
       "    }\n",
       "</style>\n",
       "<table border=\"1\" class=\"dataframe\">\n",
       "  <thead>\n",
       "    <tr style=\"text-align: right;\">\n",
       "      <th></th>\n",
       "      <th>hotel</th>\n",
       "      <th>is_cancelled</th>\n",
       "      <th>lead_time</th>\n",
       "      <th>stays_in_weekend_nights</th>\n",
       "      <th>stays_in_week_nights</th>\n",
       "      <th>adults</th>\n",
       "      <th>children</th>\n",
       "      <th>babies</th>\n",
       "      <th>meal</th>\n",
       "      <th>country</th>\n",
       "      <th>...</th>\n",
       "      <th>agent</th>\n",
       "      <th>company</th>\n",
       "      <th>days_in_waiting_list</th>\n",
       "      <th>customer_type</th>\n",
       "      <th>adr</th>\n",
       "      <th>required_car_parking_spaces</th>\n",
       "      <th>total_of_special_requests</th>\n",
       "      <th>reservation_status_date</th>\n",
       "      <th>arrival_date</th>\n",
       "      <th>id_booking</th>\n",
       "    </tr>\n",
       "  </thead>\n",
       "  <tbody>\n",
       "  </tbody>\n",
       "</table>\n",
       "<p>0 rows × 29 columns</p>\n",
       "</div>"
      ],
      "text/plain": [
       "Empty DataFrame\n",
       "Columns: [hotel, is_cancelled, lead_time, stays_in_weekend_nights, stays_in_week_nights, adults, children, babies, meal, country, market_segment, distribution_channel, is_repeated_guest, previous_cancellations, previous_bookings_not_canceled, reserved_room_type, assigned_room_type, booking_changes, deposit_type, agent, company, days_in_waiting_list, customer_type, adr, required_car_parking_spaces, total_of_special_requests, reservation_status_date, arrival_date, id_booking]\n",
       "Index: []\n",
       "\n",
       "[0 rows x 29 columns]"
      ]
     },
     "execution_count": 73,
     "metadata": {},
     "output_type": "execute_result"
    }
   ],
   "source": [
    "bookings[bookings.duplicated()]"
   ]
  },
  {
   "cell_type": "markdown",
   "id": "21aa5089",
   "metadata": {},
   "source": [
    "Note that the dataset is curated."
   ]
  },
  {
   "cell_type": "code",
   "execution_count": 68,
   "id": "2e3f27b1",
   "metadata": {},
   "outputs": [
    {
     "data": {
      "text/plain": [
       "True"
      ]
     },
     "execution_count": 68,
     "metadata": {},
     "output_type": "execute_result"
    }
   ],
   "source": [
    "len(bookings['id_booking'].unique())==len(bookings)"
   ]
  },
  {
   "cell_type": "markdown",
   "id": "cf3adcdf",
   "metadata": {},
   "source": [
    "In the case of this dataset, faith must be placed that the id_booking has been correctly generated for each unique booking.  Without this column, it's virtually impossible to definitively tell if certain bookings are erroneous duplicates of each other.  More specifically, separate bookings without the `id_booking` column can have identical column values for the remaining columns and still refer to different reservations -- these is no sure method of knowing.  For example, 4 different couples may have 1 individual make reservations for all the couples all originating from the same country with the same itinerary.\n",
    "\n",
    "**Due to this fact and the fact that this is a curated dataset, no rows will be culled from this dataset.**"
   ]
  },
  {
   "cell_type": "code",
   "execution_count": null,
   "id": "17a7bf0e",
   "metadata": {},
   "outputs": [],
   "source": []
  }
 ],
 "metadata": {
  "kernelspec": {
   "display_name": "Python 3 (ipykernel)",
   "language": "python",
   "name": "python3"
  },
  "language_info": {
   "codemirror_mode": {
    "name": "ipython",
    "version": 3
   },
   "file_extension": ".py",
   "mimetype": "text/x-python",
   "name": "python",
   "nbconvert_exporter": "python",
   "pygments_lexer": "ipython3",
   "version": "3.9.13"
  }
 },
 "nbformat": 4,
 "nbformat_minor": 5
}
